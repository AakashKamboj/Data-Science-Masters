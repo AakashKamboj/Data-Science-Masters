{
 "cells": [
  {
   "cell_type": "code",
   "execution_count": 2,
   "id": "aa369605-38b5-4d6d-9be4-ea27112cc942",
   "metadata": {},
   "outputs": [],
   "source": [
    "name = \"akash\""
   ]
  },
  {
   "cell_type": "code",
   "execution_count": 4,
   "id": "37d142d7-12ba-4652-b6e9-39b23ce3a21f",
   "metadata": {},
   "outputs": [
    {
     "name": "stdout",
     "output_type": "stream",
     "text": [
      "akash\n"
     ]
    }
   ],
   "source": [
    "print(name)"
   ]
  },
  {
   "cell_type": "code",
   "execution_count": 5,
   "id": "4e8a091b-ee69-425c-9843-b4c26a9ec444",
   "metadata": {},
   "outputs": [
    {
     "data": {
      "text/plain": [
       "str"
      ]
     },
     "execution_count": 5,
     "metadata": {},
     "output_type": "execute_result"
    }
   ],
   "source": [
    "type(name)"
   ]
  },
  {
   "cell_type": "code",
   "execution_count": 6,
   "id": "b29653f2-6108-4c05-8379-6b7915d7ab53",
   "metadata": {},
   "outputs": [
    {
     "name": "stdout",
     "output_type": "stream",
     "text": [
      "my age is : 21\n"
     ]
    }
   ],
   "source": [
    "age = 21\n",
    "print('my age is :',age)"
   ]
  },
  {
   "cell_type": "code",
   "execution_count": 8,
   "id": "0776c5d2-4052-4234-a3b7-c695bc5020ef",
   "metadata": {},
   "outputs": [
    {
     "name": "stdout",
     "output_type": "stream",
     "text": [
      "my age is : {age}\n"
     ]
    }
   ],
   "source": [
    "print('my age is : {age}')"
   ]
  },
  {
   "cell_type": "code",
   "execution_count": 10,
   "id": "cc8d7584-cd6a-40aa-8c9e-abd68bfab7f6",
   "metadata": {},
   "outputs": [
    {
     "name": "stdout",
     "output_type": "stream",
     "text": [
      "my age is : 21\n"
     ]
    }
   ],
   "source": [
    "# f string\n",
    "print(f\"my age is : {age}\")"
   ]
  },
  {
   "cell_type": "code",
   "execution_count": 13,
   "id": "c3328b59-db12-409e-a556-cb050f9b5583",
   "metadata": {},
   "outputs": [
    {
     "name": "stdout",
     "output_type": "stream",
     "text": [
      "my name is 21 and my age is akash\n"
     ]
    }
   ],
   "source": [
    "# format()\n",
    "name =\"akash\"\n",
    "age = 21\n",
    "print(\"my name is {} and my age is {}\" .format(age,name))"
   ]
  },
  {
   "cell_type": "code",
   "execution_count": 14,
   "id": "35d6955f-b8b6-4c87-9525-7f67065099c8",
   "metadata": {},
   "outputs": [
    {
     "name": "stdout",
     "output_type": "stream",
     "text": [
      "my age is 21 and i have completed : my degree of Btech with the name of Akash Kmaboj\n"
     ]
    }
   ],
   "source": [
    "name = \"Akash Kmaboj\"\n",
    "age=21\n",
    "degree = \"Btech\"\n",
    "print(\"my age is {} and i have completed : my degree of {} with the name of {}\" .format(age,degree,name))"
   ]
  },
  {
   "cell_type": "code",
   "execution_count": 28,
   "id": "cd2155d6-2535-4243-b606-fd5b43cc72a2",
   "metadata": {},
   "outputs": [
    {
     "name": "stdin",
     "output_type": "stream",
     "text": [
      "Enter your age 22\n"
     ]
    },
    {
     "name": "stdout",
     "output_type": "stream",
     "text": [
      "you are young blood\n"
     ]
    }
   ],
   "source": [
    "age = int(input(\"Enter your age\"))\n",
    "if age >=18 and  age <=45:\n",
    "     print(\"you are young blood\")"
   ]
  },
  {
   "cell_type": "code",
   "execution_count": 33,
   "id": "8923f8eb-e474-4a9c-a890-dc98d8cea00f",
   "metadata": {},
   "outputs": [
    {
     "name": "stdin",
     "output_type": "stream",
     "text": [
      "Enter the price 10\n"
     ]
    },
    {
     "name": "stdout",
     "output_type": "stream",
     "text": [
      "The price of the product is7.0\n"
     ]
    }
   ],
   "source": [
    "product_price = int(input(\"Enter the price\"))\n",
    "if product_price >1000:\n",
    "     print(\"The price of the product is {}\".format(product_price*0.8))\n",
    "else:\n",
    "     print(\"The price of the product is{}\".format(product_price*0.7))\n",
    "\n"
   ]
  },
  {
   "cell_type": "code",
   "execution_count": 34,
   "id": "852bb29c-4eb8-4a95-9b04-672999dc8a62",
   "metadata": {},
   "outputs": [
    {
     "name": "stdin",
     "output_type": "stream",
     "text": [
      "Enter the number 500\n"
     ]
    },
    {
     "name": "stdout",
     "output_type": "stream",
     "text": [
      "Value is less than equal to 999\n"
     ]
    }
   ],
   "source": [
    "## Single Statement suites\n",
    "val= int(input('Enter the number'))\n",
    "if(val<=999):print(\"Value is less than equal to 999\")"
   ]
  },
  {
   "cell_type": "code",
   "execution_count": null,
   "id": "109fd474-a8d4-4413-913e-008bb156dee9",
   "metadata": {},
   "outputs": [],
   "source": []
  }
 ],
 "metadata": {
  "kernelspec": {
   "display_name": "Python 3 (ipykernel)",
   "language": "python",
   "name": "python3"
  },
  "language_info": {
   "codemirror_mode": {
    "name": "ipython",
    "version": 3
   },
   "file_extension": ".py",
   "mimetype": "text/x-python",
   "name": "python",
   "nbconvert_exporter": "python",
   "pygments_lexer": "ipython3",
   "version": "3.11.7"
  }
 },
 "nbformat": 4,
 "nbformat_minor": 5
}
