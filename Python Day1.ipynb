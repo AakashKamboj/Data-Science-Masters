{
 "cells": [
  {
   "cell_type": "code",
   "execution_count": 2,
   "id": "aa369605-38b5-4d6d-9be4-ea27112cc942",
   "metadata": {},
   "outputs": [],
   "source": [
    "name = \"akash\""
   ]
  },
  {
   "cell_type": "code",
   "execution_count": 4,
   "id": "37d142d7-12ba-4652-b6e9-39b23ce3a21f",
   "metadata": {},
   "outputs": [
    {
     "name": "stdout",
     "output_type": "stream",
     "text": [
      "akash\n"
     ]
    }
   ],
   "source": [
    "print(name)"
   ]
  },
  {
   "cell_type": "code",
   "execution_count": 5,
   "id": "4e8a091b-ee69-425c-9843-b4c26a9ec444",
   "metadata": {},
   "outputs": [
    {
     "data": {
      "text/plain": [
       "str"
      ]
     },
     "execution_count": 5,
     "metadata": {},
     "output_type": "execute_result"
    }
   ],
   "source": [
    "type(name)"
   ]
  },
  {
   "cell_type": "code",
   "execution_count": 6,
   "id": "b29653f2-6108-4c05-8379-6b7915d7ab53",
   "metadata": {},
   "outputs": [
    {
     "name": "stdout",
     "output_type": "stream",
     "text": [
      "my age is : 21\n"
     ]
    }
   ],
   "source": [
    "age = 21\n",
    "print('my age is :',age)"
   ]
  },
  {
   "cell_type": "code",
   "execution_count": 8,
   "id": "0776c5d2-4052-4234-a3b7-c695bc5020ef",
   "metadata": {},
   "outputs": [
    {
     "name": "stdout",
     "output_type": "stream",
     "text": [
      "my age is : {age}\n"
     ]
    }
   ],
   "source": [
    "print('my age is : {age}')"
   ]
  },
  {
   "cell_type": "code",
   "execution_count": 10,
   "id": "cc8d7584-cd6a-40aa-8c9e-abd68bfab7f6",
   "metadata": {},
   "outputs": [
    {
     "name": "stdout",
     "output_type": "stream",
     "text": [
      "my age is : 21\n"
     ]
    }
   ],
   "source": [
    "# f string\n",
    "print(f\"my age is : {age}\")"
   ]
  },
  {
   "cell_type": "code",
   "execution_count": 13,
   "id": "c3328b59-db12-409e-a556-cb050f9b5583",
   "metadata": {},
   "outputs": [
    {
     "name": "stdout",
     "output_type": "stream",
     "text": [
      "my name is 21 and my age is akash\n"
     ]
    }
   ],
   "source": [
    "# format()\n",
    "name =\"akash\"\n",
    "age = 21\n",
    "print(\"my name is {} and my age is {}\" .format(age,name))"
   ]
  },
  {
   "cell_type": "code",
   "execution_count": 14,
   "id": "35d6955f-b8b6-4c87-9525-7f67065099c8",
   "metadata": {},
   "outputs": [
    {
     "name": "stdout",
     "output_type": "stream",
     "text": [
      "my age is 21 and i have completed : my degree of Btech with the name of Akash Kmaboj\n"
     ]
    }
   ],
   "source": [
    "name = \"Akash Kmaboj\"\n",
    "age=21\n",
    "degree = \"Btech\"\n",
    "print(\"my age is {} and i have completed : my degree of {} with the name of {}\" .format(age,degree,name))"
   ]
  },
  {
   "cell_type": "code",
   "execution_count": 28,
   "id": "cd2155d6-2535-4243-b606-fd5b43cc72a2",
   "metadata": {},
   "outputs": [
    {
     "name": "stdin",
     "output_type": "stream",
     "text": [
      "Enter your age 22\n"
     ]
    },
    {
     "name": "stdout",
     "output_type": "stream",
     "text": [
      "you are young blood\n"
     ]
    }
   ],
   "source": [
    "age = int(input(\"Enter your age\"))\n",
    "if age >=18 and  age <=45:\n",
    "     print(\"you are young blood\")"
   ]
  },
  {
   "cell_type": "code",
   "execution_count": 33,
   "id": "8923f8eb-e474-4a9c-a890-dc98d8cea00f",
   "metadata": {},
   "outputs": [
    {
     "name": "stdin",
     "output_type": "stream",
     "text": [
      "Enter the price 10\n"
     ]
    },
    {
     "name": "stdout",
     "output_type": "stream",
     "text": [
      "The price of the product is7.0\n"
     ]
    }
   ],
   "source": [
    "product_price = int(input(\"Enter the price\"))\n",
    "if product_price >1000:\n",
    "     print(\"The price of the product is {}\".format(product_price*0.8))\n",
    "else:\n",
    "     print(\"The price of the product is{}\".format(product_price*0.7))\n",
    "\n"
   ]
  },
  {
   "cell_type": "code",
   "execution_count": 34,
   "id": "852bb29c-4eb8-4a95-9b04-672999dc8a62",
   "metadata": {},
   "outputs": [
    {
     "name": "stdin",
     "output_type": "stream",
     "text": [
      "Enter the number 500\n"
     ]
    },
    {
     "name": "stdout",
     "output_type": "stream",
     "text": [
      "Value is less than equal to 999\n"
     ]
    }
   ],
   "source": [
    "## Single Statement suites\n",
    "val= int(input('Enter the number'))\n",
    "if(val<=999):print(\"Value is less than equal to 999\")"
   ]
  },
  {
   "cell_type": "raw",
   "id": "e64c15d1-1b20-4f68-b999-6aa8b3971f5c",
   "metadata": {},
   "source": [
    "##Loop Statements\n",
    "1. for Loop\n",
    "2. while loop\n",
    "3. nested loop\n",
    "4. loop conntrol(break,continue,pass)"
   ]
  },
  {
   "cell_type": "code",
   "execution_count": 4,
   "id": "89ff8bd2-2411-4d8f-821a-eb44f2146b62",
   "metadata": {},
   "outputs": [
    {
     "name": "stdout",
     "output_type": "stream",
     "text": [
      "25\n",
      "26\n",
      "27\n",
      "28\n",
      "29\n",
      "30\n",
      "31\n",
      "32\n",
      "33\n",
      "34\n",
      "35\n",
      "36\n",
      "37\n",
      "38\n",
      "39\n",
      "40\n",
      "41\n",
      "42\n",
      "43\n",
      "44\n",
      "45\n",
      "46\n",
      "47\n",
      "48\n",
      "49\n",
      "50\n",
      "51\n",
      "52\n",
      "53\n",
      "54\n",
      "55\n",
      "56\n",
      "57\n",
      "58\n",
      "59\n",
      "60\n",
      "Its time for retirement\n"
     ]
    }
   ],
   "source": [
    "# while loop\n",
    "joining_age=25\n",
    "while joining_age<=60:\n",
    "    print(joining_age)\n",
    "    joining_age=joining_age+1\n",
    "\n",
    "else:\n",
    "    print(\"Its time for retirement\")"
   ]
  },
  {
   "cell_type": "code",
   "execution_count": 8,
   "id": "eed2cd6f-fa9f-472c-82a2-9a46abb35040",
   "metadata": {},
   "outputs": [
    {
     "name": "stdout",
     "output_type": "stream",
     "text": [
      "1000\n",
      "900\n",
      "800\n",
      "700\n",
      "600\n",
      "500\n",
      "400\n",
      "300\n",
      "200\n",
      "100\n",
      "Put more money bank people\n"
     ]
    }
   ],
   "source": [
    "## Atm machine with 1000rs\n",
    "total_amount=1000\n",
    "while total_amount !=0:\n",
    "    print(total_amount)\n",
    "    total_amount=total_amount-100\n",
    "else:\n",
    "    print(\"Put more money bank people\")"
   ]
  },
  {
   "cell_type": "markdown",
   "id": "4104f8dd-a464-4d6c-898e-24210aecc81f",
   "metadata": {},
   "source": [
    "# for loop"
   ]
  },
  {
   "cell_type": "code",
   "execution_count": 9,
   "id": "c6f30876-d8d5-46d6-a021-1a91811fe2ac",
   "metadata": {},
   "outputs": [],
   "source": [
    "lst=['Akash',1,2,3,4,'Apple','banana']"
   ]
  },
  {
   "cell_type": "code",
   "execution_count": 10,
   "id": "48924910-e7ad-466a-b711-245cec70c366",
   "metadata": {},
   "outputs": [
    {
     "data": {
      "text/plain": [
       "['Akash', 1, 2, 3, 4, 'Apple', 'banana']"
      ]
     },
     "execution_count": 10,
     "metadata": {},
     "output_type": "execute_result"
    }
   ],
   "source": [
    "lst\n"
   ]
  },
  {
   "cell_type": "code",
   "execution_count": 11,
   "id": "1af758b9-3b1d-4aa6-ba00-f8044b07ff7d",
   "metadata": {},
   "outputs": [
    {
     "name": "stdout",
     "output_type": "stream",
     "text": [
      "Akash\n",
      "1\n",
      "2\n",
      "3\n",
      "4\n",
      "Apple\n",
      "banana\n"
     ]
    }
   ],
   "source": [
    "for x in lst:\n",
    "    print(x)\n",
    "    "
   ]
  },
  {
   "cell_type": "code",
   "execution_count": 12,
   "id": "4cb88373-d1b1-430a-8b05-639490391b9b",
   "metadata": {},
   "outputs": [
    {
     "name": "stdout",
     "output_type": "stream",
     "text": [
      "m\n",
      "a\n",
      "n\n",
      "g\n",
      "o\n"
     ]
    }
   ],
   "source": [
    "fruit='mango'\n",
    "for x in fruit:\n",
    "    print(x)"
   ]
  },
  {
   "cell_type": "code",
   "execution_count": 13,
   "id": "e256e8a3-16a0-48a9-a3cc-1dfecfb3cfd9",
   "metadata": {},
   "outputs": [
    {
     "data": {
      "text/plain": [
       "'n'"
      ]
     },
     "execution_count": 13,
     "metadata": {},
     "output_type": "execute_result"
    }
   ],
   "source": [
    "fruit[2]"
   ]
  },
  {
   "cell_type": "code",
   "execution_count": 14,
   "id": "b061501d-9929-4741-a3d8-9a2595e0f791",
   "metadata": {},
   "outputs": [],
   "source": [
    "### range()\n",
    "n = 7\n"
   ]
  },
  {
   "cell_type": "code",
   "execution_count": 15,
   "id": "3a2e85a4-3f3d-45e5-90b0-b2d9fa0fdd77",
   "metadata": {},
   "outputs": [
    {
     "name": "stdout",
     "output_type": "stream",
     "text": [
      "1\n",
      "2\n",
      "3\n",
      "4\n",
      "5\n"
     ]
    }
   ],
   "source": [
    "for i in range(1,6):\n",
    "    print(i)"
   ]
  },
  {
   "cell_type": "code",
   "execution_count": 17,
   "id": "817e921d-ca0b-466e-b825-cd71d6f6b076",
   "metadata": {},
   "outputs": [
    {
     "name": "stdout",
     "output_type": "stream",
     "text": [
      "1\n",
      "3\n",
      "5\n"
     ]
    }
   ],
   "source": [
    "for i in range(1,6,2):\n",
    "    print(i)"
   ]
  },
  {
   "cell_type": "code",
   "execution_count": 22,
   "id": "d4e930ac-f40a-4f87-ab7c-30eecd8f8046",
   "metadata": {},
   "outputs": [
    {
     "name": "stdout",
     "output_type": "stream",
     "text": [
      "*\n",
      "**\n",
      "***\n",
      "****\n",
      "*****\n",
      "******\n",
      "*******\n"
     ]
    }
   ],
   "source": [
    "# Nested loops\n",
    "n = 7\n",
    "\n",
    "for i in range(0,n):\n",
    "    for j in range(0,i+1):\n",
    "        print(\"*\",end=\"\")\n",
    "    print(\"\\r\")"
   ]
  },
  {
   "cell_type": "code",
   "execution_count": 6,
   "id": "a9c67e32-0e9e-4b2b-bce3-506a85d9bcdc",
   "metadata": {},
   "outputs": [
    {
     "name": "stdout",
     "output_type": "stream",
     "text": [
      "mango\n",
      "cherry\n",
      "the fruit is apple\n"
     ]
    }
   ],
   "source": [
    "## Control statement\n",
    "#break\n",
    "fruits_list=[\"mango\",\"cherry\",\"apple\",\"papaya\",\"banana\"]\n",
    "for i in fruits_list:\n",
    "    if i == \"apple\":\n",
    "        print(\"the fruit is apple\")\n",
    "        break\n",
    "    print(i) "
   ]
  },
  {
   "cell_type": "code",
   "execution_count": 7,
   "id": "1a01e736-f350-4c1d-b40f-e112e0e342ff",
   "metadata": {},
   "outputs": [
    {
     "name": "stdout",
     "output_type": "stream",
     "text": [
      "mango\n",
      "cherry\n",
      "the fruit is apple\n",
      "apple\n",
      "papaya\n",
      "banana\n"
     ]
    }
   ],
   "source": [
    "#pass\n",
    "fruits_list=[\"mango\",\"cherry\",\"apple\",\"papaya\",\"banana\"]\n",
    "for i in fruits_list:\n",
    "    if i == \"apple\":\n",
    "        print(\"the fruit is apple\")\n",
    "        pass\n",
    "    print(i) "
   ]
  },
  {
   "cell_type": "code",
   "execution_count": 8,
   "id": "f9580ff4-734c-438e-a711-2bfbe370b6ea",
   "metadata": {},
   "outputs": [
    {
     "name": "stdout",
     "output_type": "stream",
     "text": [
      "mango\n",
      "cherry\n",
      "the fruit is apple\n",
      "papaya\n",
      "banana\n"
     ]
    }
   ],
   "source": [
    "#continue\n",
    "fruits_list=[\"mango\",\"cherry\",\"apple\",\"papaya\",\"banana\"]\n",
    "for i in fruits_list:\n",
    "    if i == \"apple\":\n",
    "        print(\"the fruit is apple\")\n",
    "        continue\n",
    "    print(i) "
   ]
  },
  {
   "cell_type": "code",
   "execution_count": null,
   "id": "e3534b76-7d14-4a1b-874f-7209ff5ad86f",
   "metadata": {},
   "outputs": [],
   "source": []
  }
 ],
 "metadata": {
  "kernelspec": {
   "display_name": "Python 3 (ipykernel)",
   "language": "python",
   "name": "python3"
  },
  "language_info": {
   "codemirror_mode": {
    "name": "ipython",
    "version": 3
   },
   "file_extension": ".py",
   "mimetype": "text/x-python",
   "name": "python",
   "nbconvert_exporter": "python",
   "pygments_lexer": "ipython3",
   "version": "3.11.7"
  }
 },
 "nbformat": 4,
 "nbformat_minor": 5
}
